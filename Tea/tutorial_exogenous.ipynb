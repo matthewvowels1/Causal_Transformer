{
 "cells": [
  {
   "cell_type": "code",
   "id": "4a31d1a4a81d7942",
   "metadata": {
    "ExecuteTime": {
     "end_time": "2024-08-16T08:08:55.998405Z",
     "start_time": "2024-08-16T08:08:55.994571Z"
    }
   },
   "source": [
    "import networkx as nx\n",
    "import numpy as np\n",
    "import torch\n",
    "from model import Tea\n",
    "import inference\n",
    "import pandas as pd\n",
    "import matplotlib.pyplot as plt\n",
    "from datasets import get_full_ordering, reorder_dag\n",
    "import utils\n",
    "\n",
    "shuffling = 0\n",
    "seed = 1\n",
    "standardize = 0\n",
    "sample_size = 1000\n",
    "batch_size = 100\n",
    "max_iters = 1000\n",
    "eval_interval = 100\n",
    "eval_iters = 100\n",
    "validation_fraction = 0.3\n",
    "np.random.seed(seed=seed)\n",
    "torch.manual_seed(seed)\n",
    "device = 'cpu'\n",
    "dropout_rate = 0.0\n",
    "learning_rate = 5e-3\n",
    "ff_n_embed = 6\n",
    "num_heads = 2\n",
    "n_layers = 1\n",
    "head_size = 6\n",
    "d = 1\n"
   ],
   "outputs": [],
   "execution_count": 49
  },
  {
   "metadata": {},
   "cell_type": "markdown",
   "source": "## Exogenous Example",
   "id": "291408fdd9c0b9cd"
  },
  {
   "metadata": {
    "ExecuteTime": {
     "end_time": "2024-08-16T09:26:40.783470Z",
     "start_time": "2024-08-16T09:26:40.778192Z"
    }
   },
   "cell_type": "code",
   "source": [
    "\n",
    "def generate_data(N, d=3):\n",
    "    DAGnx = nx.DiGraph()\n",
    "    \n",
    "    Ux = np.random.randn(N,d)\n",
    "    X =  (Ux>0).astype(float)\n",
    "    \n",
    "    Ub = np.random.randn(N,d)\n",
    "    B =  Ub\n",
    "    \n",
    "    Uc = np.random.randn(N,d)\n",
    "    C =  Uc\n",
    "    \n",
    "    Uy = np.random.randn(N,d) / 100\n",
    "    Y = 0.3 * X + 0.0 * B + 0.0 * C +  Uy\n",
    "\n",
    "    Y0 = 0.3 * 0 + 0.0 * B + 0.0 * C +  Uy\n",
    "    Y1 =  0.3 * 1 + 0.0 * B + 0.0 * C + Uy\n",
    "\n",
    "    all_data_dict = {'X': X, 'B': B, 'C': C, 'Y': Y}\n",
    "\n",
    "    # types can be 'cat' (categorical) 'cont' (continuous) or 'bin' (binary)\n",
    "    var_types = {'X': 'cont', 'B': 'cont', 'C': 'cont', 'Y': 'cont'}\n",
    "\n",
    "    DAGnx.add_edges_from([('X', 'Y'), ('B', 'Y'), ('C', 'Y')])\n",
    "    print('Before ordering:', list(DAGnx.nodes()))\n",
    "    DAGnx = reorder_dag(dag=DAGnx)  # topologically sorted dag\n",
    "    var_names = list(DAGnx.nodes())  # topologically ordered list of variables\n",
    "    print('After ordering:', var_names)\n",
    "    all_data = np.stack([all_data_dict[key] for key in var_names], axis=1)\n",
    "    causal_ordering = get_full_ordering(DAGnx)\n",
    "    print('Check ordering:', causal_ordering)\n",
    "    ordered_var_types = dict(sorted(var_types.items(), key=lambda item: causal_ordering[item[0]]))\n",
    "    print('check again:', ordered_var_types)\n",
    "\n",
    "    return all_data, DAGnx, var_names, causal_ordering, ordered_var_types, Y0, Y1\n",
    "\n",
    "\n"
   ],
   "id": "1f6504d0",
   "outputs": [],
   "execution_count": 69
  },
  {
   "metadata": {},
   "cell_type": "markdown",
   "source": "# Train model",
   "id": "a0305abc0d1bd1f3"
  },
  {
   "metadata": {
    "ExecuteTime": {
     "end_time": "2024-08-16T09:26:46.447050Z",
     "start_time": "2024-08-16T09:26:41.880661Z"
    }
   },
   "cell_type": "code",
   "source": [
    "def get_batch(train_data, val_data, split, device, batch_size):\n",
    "    data = train_data if split == 'train' else val_data\n",
    "    ix = torch.randint(0, len(data), (batch_size,))\n",
    "    x = data[ix]\n",
    "    return x.to(device)\n",
    "\n",
    "_, _, _, _, _, Y0, Y1 = generate_data(N=1000000, d=d)\n",
    "ATE = (Y1 - Y0).mean(0)  # multi-dim ATE based off a large sample\n",
    "\n",
    "print('True ATE:', ATE)\n",
    "\n",
    "\n",
    "for i in range(1):\n",
    "    all_data, DAGnx, var_names, causal_ordering, var_types, Y0, Y1 = generate_data(N=sample_size, d=d)\n",
    "    indices = np.arange(0, len(all_data))\n",
    "    np.random.shuffle(indices)\n",
    "    \n",
    "    val_inds = indices[:int(validation_fraction*len(indices))]\n",
    "    train_inds = indices[int(validation_fraction*len(indices)):]\n",
    "    train_data = all_data[train_inds]\n",
    "    val_data = all_data[val_inds]\n",
    "    train_data, val_data = torch.from_numpy(train_data).float(),  torch.from_numpy(val_data).float()\n",
    "    input_dim = all_data.shape[2]\n",
    "    \n",
    "    model = Tea(input_dim=input_dim,\n",
    "                    dropout_rate=dropout_rate,\n",
    "                    head_size=head_size,\n",
    "                    num_heads=num_heads,\n",
    "                    ff_n_embed=ff_n_embed,\n",
    "                    dag=DAGnx,\n",
    "                    causal_ordering=causal_ordering,\n",
    "                    n_layers=n_layers,\n",
    "                    device=device,\n",
    "                    var_types=var_types,\n",
    "                    ).to(device)\n",
    "    \n",
    "    optimizer = torch.optim.AdamW(model.parameters(), lr=learning_rate)\n",
    "    \n",
    "    all_var_losses = {}\n",
    "    for iter_ in range(0, max_iters):\n",
    "        # train and update the model\n",
    "        model.train()\n",
    "    \n",
    "        xb = get_batch(train_data=train_data, val_data=val_data, split='train', device=device, batch_size=batch_size)\n",
    "        xb_mod = torch.clone(xb.detach())\n",
    "        X, loss, loss_dict = model(X=xb, targets=xb_mod, shuffling=shuffling)\n",
    "    \n",
    "        optimizer.zero_grad(set_to_none=True)\n",
    "        loss.backward()\n",
    "        optimizer.step()\n",
    "    \n",
    "    \n",
    "        if iter_ % eval_interval == 0:  # evaluate the loss (no gradients)\n",
    "            for key in loss_dict.keys():\n",
    "                if key not in all_var_losses.keys():\n",
    "                    all_var_losses[key] = []\n",
    "                all_var_losses[key].append(loss_dict[key])\n",
    "    \n",
    "            model.eval()\n",
    "            eval_loss = {}\n",
    "            for split in ['train', 'val']:\n",
    "                losses = torch.zeros(eval_iters)\n",
    "                for k in range(eval_iters):\n",
    "    \n",
    "                    xb = get_batch(train_data=train_data, val_data=val_data, split=split, device=device,\n",
    "                                   batch_size=batch_size)\n",
    "                    xb_mod = torch.clone(xb.detach())\n",
    "                    X, loss, loss_dict = model(X=xb, targets=xb_mod, shuffling=False)\n",
    "                    losses[k] = loss.item()\n",
    "                eval_loss[split] = losses.mean()\n",
    "            model.train()\n",
    "            print(f\"step {iter_} of {max_iters}: train_loss {eval_loss['train']:.4f}, val loss {eval_loss['val']:.4f}\")\n"
   ],
   "id": "c1982159",
   "outputs": [
    {
     "name": "stdout",
     "output_type": "stream",
     "text": [
      "Before ordering: ['X', 'Y', 'B', 'C']\n",
      "After ordering: ['X', 'B', 'C', 'Y']\n",
      "Check ordering: {'X': 0, 'B': 0, 'C': 0, 'Y': 1}\n",
      "check again: {'X': 'cont', 'B': 'cont', 'C': 'cont', 'Y': 'cont'}\n",
      "True ATE: [0.3]\n",
      "Before ordering: ['X', 'Y', 'B', 'C']\n",
      "After ordering: ['X', 'B', 'C', 'Y']\n",
      "Check ordering: {'X': 0, 'B': 0, 'C': 0, 'Y': 1}\n",
      "check again: {'X': 'cont', 'B': 'cont', 'C': 'cont', 'Y': 'cont'}\n",
      "step 0 of 1000: train_loss 0.0142, val loss 0.0131\n",
      "step 100 of 1000: train_loss 0.0038, val loss 0.0036\n",
      "step 200 of 1000: train_loss 0.0030, val loss 0.0029\n",
      "step 300 of 1000: train_loss 0.0024, val loss 0.0022\n",
      "step 400 of 1000: train_loss 0.0020, val loss 0.0019\n",
      "step 500 of 1000: train_loss 0.0019, val loss 0.0018\n",
      "step 600 of 1000: train_loss 0.0017, val loss 0.0016\n",
      "step 700 of 1000: train_loss 0.0016, val loss 0.0014\n",
      "step 800 of 1000: train_loss 0.0012, val loss 0.0011\n",
      "step 900 of 1000: train_loss 0.0010, val loss 0.0009\n"
     ]
    }
   ],
   "execution_count": 70
  },
  {
   "metadata": {},
   "cell_type": "markdown",
   "source": "# 1. Test with conditional values and training data",
   "id": "1dcfe7a97ddba5cd"
  },
  {
   "metadata": {
    "ExecuteTime": {
     "end_time": "2024-08-16T08:09:01.483982Z",
     "start_time": "2024-08-16T08:09:01.477211Z"
    }
   },
   "cell_type": "code",
   "source": [
    "effect_var = 'Y'\n",
    "effect_index = utils.find_element_in_list(var_names, target_string=effect_var)\n",
    "\n",
    "model.eval()\n",
    "preds = model(train_data.to(device))\n",
    "\n",
    "values_when_1 = preds[train_data[:, 0, -1] == 1, effect_index, -1]\n",
    "values_when_0 = preds[train_data[:, 0, -1] == 0, effect_index, -1]\n",
    "\n",
    "mean_when_1 = torch.mean(values_when_1)\n",
    "mean_when_0 = torch.mean(values_when_0)\n",
    "print('est ATE just conditional values:', mean_when_1 - mean_when_0)\n",
    "\n",
    "\n"
   ],
   "id": "3e12d377de3631ae",
   "outputs": [
    {
     "name": "stdout",
     "output_type": "stream",
     "text": [
      "est ATE just conditional values: tensor(0.2852, grad_fn=<SubBackward0>)\n"
     ]
    }
   ],
   "execution_count": 52
  },
  {
   "metadata": {},
   "cell_type": "markdown",
   "source": "# 2. Test with conditional values and validation data",
   "id": "a216d0693692d001"
  },
  {
   "metadata": {
    "ExecuteTime": {
     "end_time": "2024-08-16T08:09:01.504922Z",
     "start_time": "2024-08-16T08:09:01.484983Z"
    }
   },
   "cell_type": "code",
   "source": [
    "\n",
    "model.eval()\n",
    "preds = model(val_data.to(device))\n",
    "\n",
    "values_when_1 = preds[val_data[:, 0, -1] == 1, effect_index, -1]\n",
    "values_when_0 = preds[val_data[:, 0, -1] == 0, effect_index, -1]\n",
    "\n",
    "mean_when_1 = torch.mean(values_when_1)\n",
    "mean_when_0 = torch.mean(values_when_0)\n",
    "print('est ATE just conditional values (validation set):', mean_when_1 - mean_when_0)"
   ],
   "id": "75d7198b53a254bf",
   "outputs": [
    {
     "name": "stdout",
     "output_type": "stream",
     "text": [
      "est ATE just conditional values (validation set): tensor(0.2848, grad_fn=<SubBackward0>)\n"
     ]
    }
   ],
   "execution_count": 53
  },
  {
   "metadata": {},
   "cell_type": "markdown",
   "source": "# 3. Test with interventions and training data",
   "id": "4c7dd7852eb0fd81"
  },
  {
   "metadata": {
    "ExecuteTime": {
     "end_time": "2024-08-16T08:09:01.518071Z",
     "start_time": "2024-08-16T08:09:01.506445Z"
    }
   },
   "cell_type": "code",
   "source": [
    "model.eval()\n",
    "\n",
    "train_data_1 = train_data.clone()\n",
    "train_data_0 = train_data.clone()\n",
    "\n",
    "train_data_1[:, 0, -1] = 1\n",
    "train_data_0[:, 0, -1] = 0\n",
    "\n",
    "with torch.no_grad():  # Disable gradient calculation for inference\n",
    "    preds_1 = model(train_data_1.to(device))\n",
    "    preds_0 = model(train_data_0.to(device))\n",
    "    \n",
    "difference = preds_1[:, effect_index] - preds_0[:, effect_index]\n",
    "\n",
    "print('est ATE after intervention:', difference.mean())\n",
    "\n"
   ],
   "id": "3ecfb21f07e0a169",
   "outputs": [
    {
     "name": "stdout",
     "output_type": "stream",
     "text": [
      "est ATE after intervention: tensor(-0.0419)\n"
     ]
    }
   ],
   "execution_count": 54
  },
  {
   "metadata": {},
   "cell_type": "markdown",
   "source": "# 4. Test with interventions and validation data",
   "id": "f2a2ecc6a04571f5"
  },
  {
   "metadata": {
    "ExecuteTime": {
     "end_time": "2024-08-16T08:09:01.530267Z",
     "start_time": "2024-08-16T08:09:01.519033Z"
    }
   },
   "cell_type": "code",
   "source": [
    "\n",
    "model.eval()\n",
    "\n",
    "val_data_1 = val_data.clone()\n",
    "val_data_0 = val_data.clone()\n",
    "\n",
    "val_data_1[:, 0, -1] = 1\n",
    "val_data_0[:, 0, -1] = 0\n",
    "\n",
    "with torch.no_grad():  # Disable gradient calculation for inference\n",
    "    preds_1 = model(val_data_1.to(device))\n",
    "    preds_0 = model(val_data_0.to(device))\n",
    "    \n",
    "difference = preds_1[:, effect_index] - preds_0[:, effect_index]\n",
    "\n",
    "print('est ATE after intervention (validation data):', difference.mean())"
   ],
   "id": "37be98363e72d115",
   "outputs": [
    {
     "name": "stdout",
     "output_type": "stream",
     "text": [
      "est ATE after intervention (validation data): tensor(-0.0416)\n"
     ]
    }
   ],
   "execution_count": 55
  },
  {
   "cell_type": "code",
   "id": "28d1bea2",
   "metadata": {
    "ExecuteTime": {
     "end_time": "2024-08-16T08:09:01.629853Z",
     "start_time": "2024-08-16T08:09:01.531223Z"
    }
   },
   "source": [
    "# plotting predicted X against predicted Y just to check output\n",
    "plt.scatter(preds[:,0,-1].detach().cpu().numpy(), preds[:, effect_index, -1].detach().cpu().numpy())"
   ],
   "outputs": [
    {
     "data": {
      "text/plain": [
       "<matplotlib.collections.PathCollection at 0x7fb75c7a93a0>"
      ]
     },
     "execution_count": 56,
     "metadata": {},
     "output_type": "execute_result"
    },
    {
     "data": {
      "text/plain": [
       "<Figure size 640x480 with 1 Axes>"
      ],
      "image/png": "[encoded data removed]"
     },
     "metadata": {},
     "output_type": "display_data"
    }
   ],
   "execution_count": 56
  },
  {
   "cell_type": "code",
   "id": "e039ac7758043d39",
   "metadata": {
    "ExecuteTime": {
     "end_time": "2024-08-16T08:07:38.836564Z",
     "start_time": "2024-08-16T08:07:38.834848Z"
    }
   },
   "source": "",
   "outputs": [],
   "execution_count": 48
  },
  {
   "metadata": {
    "ExecuteTime": {
     "end_time": "2024-08-16T07:42:42.842298Z",
     "start_time": "2024-08-16T07:42:42.840379Z"
    }
   },
   "cell_type": "code",
   "source": "",
   "id": "63c93132f289097f",
   "outputs": [],
   "execution_count": 13
  },
  {
   "metadata": {
    "ExecuteTime": {
     "end_time": "2024-08-16T07:41:02.839441Z",
     "start_time": "2024-08-16T07:41:02.837779Z"
    }
   },
   "cell_type": "code",
   "source": "",
   "id": "3dc2c102",
   "outputs": [],
   "execution_count": 9
  },
  {
   "cell_type": "code",
   "id": "55fc7a51",
   "metadata": {
    "ExecuteTime": {
     "end_time": "2024-08-16T07:41:03.065253Z",
     "start_time": "2024-08-16T07:41:03.063527Z"
    }
   },
   "source": "",
   "outputs": [],
   "execution_count": 9
  },
  {
   "cell_type": "code",
   "id": "cab0f23f-1246-4adc-b21d-410958751baf",
   "metadata": {
    "ExecuteTime": {
     "end_time": "2024-08-16T07:41:03.433335Z",
     "start_time": "2024-08-16T07:41:03.431240Z"
    }
   },
   "source": [],
   "outputs": [],
   "execution_count": 9
  },
  {
   "cell_type": "code",
   "execution_count": null,
   "id": "edc16638-bc8d-4022-bea4-04dbe56b95f9",
   "metadata": {},
   "outputs": [],
   "source": []
  }
 ],
 "metadata": {
  "kernelspec": {
   "display_name": "Python 3 (ipykernel)",
   "language": "python",
   "name": "python3"
  },
  "language_info": {
   "codemirror_mode": {
    "name": "ipython",
    "version": 3
   },
   "file_extension": ".py",
   "mimetype": "text/x-python",
   "name": "python",
   "nbconvert_exporter": "python",
   "pygments_lexer": "ipython3",
   "version": "3.9.19"
  }
 },
 "nbformat": 4,
 "nbformat_minor": 5
}
