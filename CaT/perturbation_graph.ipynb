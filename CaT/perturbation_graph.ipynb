{
 "cells": [
  {
   "cell_type": "code",
   "id": "a90ab8542bb57b06",
   "metadata": {
    "collapsed": true,
    "ExecuteTime": {
     "end_time": "2024-08-22T10:45:17.363236Z",
     "start_time": "2024-08-22T10:45:17.146074Z"
    }
   },
   "source": [
    "import matplotlib.pyplot as plt\n",
    "import networkx as nx\n",
    "import numpy as np\n",
    "import torch\n",
    "from model import CaT\n",
    "import inference\n",
    "import pandas as pd\n",
    "import matplotlib.pyplot as plt\n",
    "from datasets import get_full_ordering, reorder_dag\n",
    "import utils\n",
    "\n",
    "shuffling = 0\n",
    "seed = 1\n",
    "standardize = 0\n",
    "sample_size = 1000000\n",
    "batch_size = 100\n",
    "max_iters = 100000\n",
    "eval_interval = 100\n",
    "eval_iters = 100\n",
    "validation_fraction = 0.3\n",
    "np.random.seed(seed=seed)\n",
    "torch.manual_seed(seed)\n",
    "device = 'cuda'\n",
    "dropout_rate = 0.0\n",
    "learning_rate = 5e-3\n",
    "ff_n_embed = 4\n",
    "num_heads = 1\n",
    "n_layers = 1\n",
    "head_size = 4\n",
    "d = 1\n",
    "\n",
    "def generate_data(N, d=3):\n",
    "    DAGnx = nx.DiGraph()\n",
    "    \n",
    "    Ux = np.random.randn(N,d)\n",
    "    X =  Ux\n",
    "    \n",
    "    Ub = np.random.randn(N,d)\n",
    "    B =  Ub\n",
    "    \n",
    "    Uc = np.random.randn(N,d)\n",
    "    C =  Uc\n",
    "    \n",
    "    Uy = np.random.randn(N,d)\n",
    "    Y = 0.3 * X + 0.6 * B + 1.2 * C +  Uy\n",
    "\n",
    "    Y0 = 0.3 * 0 + 0.6 * B + 1.2 * C +  Uy\n",
    "    Y1 =  0.3 * 1 + 0.6 * B + 1.2 * C + Uy\n",
    "\n",
    "    all_data_dict = {'X': X, 'B': B, 'C': C, 'Y': Y}\n",
    "\n",
    "    # types can be 'cat' (categorical) 'cont' (continuous) or 'bin' (binary)\n",
    "    var_types = {'X': 'cont', 'B': 'cont', 'C': 'cont', 'Y': 'cont'}\n",
    "\n",
    "    DAGnx.add_edges_from([('X', 'Y'), ('B', 'Y'), ('C', 'Y')])\n",
    "    DAGnx = reorder_dag(dag=DAGnx)  # topologically sorted dag\n",
    "    var_names = list(DAGnx.nodes())  # topologically ordered list of variables\n",
    "    all_data = np.stack([all_data_dict[key] for key in var_names], axis=1)\n",
    "    causal_ordering = get_full_ordering(DAGnx)\n",
    "    ordered_var_types = dict(sorted(var_types.items(), key=lambda item: causal_ordering[item[0]]))\n",
    "\n",
    "    return all_data, DAGnx, var_names, causal_ordering, ordered_var_types, Y0, Y1\n",
    "\n",
    "\n",
    "\n",
    "def get_batch(train_data, val_data, split, device, batch_size):\n",
    "    data = train_data if split == 'train' else val_data\n",
    "    ix = torch.randint(0, len(data), (batch_size,))\n",
    "    x = data[ix]\n",
    "    return x.to(device)\n",
    "\n",
    "all_data, DAGnx, var_names, causal_ordering, var_types, Y0, Y1 = generate_data(N=sample_size, d=d)\n",
    "indices = np.arange(0, len(all_data))\n",
    "np.random.shuffle(indices)\n",
    "\n",
    "val_inds = indices[:int(validation_fraction*len(indices))]\n",
    "\n",
    "train_inds = indices[int(validation_fraction*len(indices)):]\n",
    "train_data = all_data[train_inds]\n",
    "val_data = all_data[val_inds]\n",
    "train_data, val_data = torch.from_numpy(train_data).float(),  torch.from_numpy(val_data).float()\n",
    "input_dim = all_data.shape[2]\n",
    "    \n",
    "model = CaT(input_dim=input_dim,\n",
    "                dropout_rate=dropout_rate,\n",
    "                head_size=head_size,\n",
    "                num_heads=num_heads,\n",
    "                ff_n_embed=ff_n_embed,\n",
    "                dag=DAGnx,\n",
    "                causal_ordering=causal_ordering,\n",
    "                n_layers=n_layers,\n",
    "                device=device,\n",
    "                var_types=var_types,\n",
    "                ).to(device)\n",
    "    \n"
   ],
   "outputs": [],
   "execution_count": 33
  },
  {
   "metadata": {
    "ExecuteTime": {
     "end_time": "2024-08-22T10:45:17.998689Z",
     "start_time": "2024-08-22T10:45:17.844798Z"
    }
   },
   "cell_type": "code",
   "source": [
    "def input_output_sensitivity_matrix(input, model, epsilon=1.0):\n",
    "    model.eval()\n",
    "    input = input.detach().clone() \n",
    "    original_output, _, _ = model(X=input, targets=input, shuffling=False)\n",
    "    \n",
    "    sensitivity_matrix = torch.zeros((input.size(1), original_output.size(1)))\n",
    "\n",
    "    for i in range(input.size(1)): \n",
    "        perturbed_input = input.clone()\n",
    "        perturbed_input[0, i] += epsilon  \n",
    "        \n",
    "        perturbed_output, _, _ = model(X=perturbed_input, targets=perturbed_input, shuffling=False)\n",
    "    \n",
    "        output_difference = perturbed_output - original_output\n",
    "\n",
    "        sensitivity_matrix[i, :] = output_difference.view(-1)\n",
    "    \n",
    "    return sensitivity_matrix\n",
    "\n",
    "\n",
    "def normalize_matrix_abs(sensitivity_matrix):\n",
    "    # Avoid division by zero by using np.where\n",
    "    row_max = np.max(np.abs(sensitivity_matrix), axis=1, keepdims=True)\n",
    "    normalized_matrix = np.where(row_max != 0, sensitivity_matrix / row_max, 0)\n",
    "    return normalized_matrix\n",
    "\n",
    "\n",
    "xb = get_batch(train_data=train_data, val_data=val_data, split='train', device=device, batch_size=1) * 0.0 + 1\n",
    "sensitivity_matrix = normalize_matrix_abs(input_output_sensitivity_matrix(xb, model).detach().cpu().numpy())\n",
    "\n",
    "plt.figure(figsize=(8, 6))\n",
    "plt.imshow(sensitivity_matrix, cmap='viridis', interpolation='nearest')\n",
    "plt.colorbar()\n",
    "\n",
    "for i in range(sensitivity_matrix.shape[0]):\n",
    "    for j in range(sensitivity_matrix.shape[1]):\n",
    "        plt.text(j, i, f'{sensitivity_matrix[i, j]:.4f}', ha='center', va='center', color='white')\n",
    "\n",
    "plt.xlabel('Output Dimensions')\n",
    "plt.ylabel('Input Dimensions')\n",
    "plt.title('Sensitivity Matrix Heatmap')\n",
    "plt.xticks(ticks=np.arange(len(var_names)), labels=var_names)\n",
    "plt.yticks(ticks=np.arange(len(var_names)), labels=var_names)\n",
    "# Display the plot\n",
    "plt.show()"
   ],
   "id": "initial_id",
   "outputs": [
    {
     "name": "stdout",
     "output_type": "stream",
     "text": [
      "torch.Size([1, 4, 1])\n",
      "torch.Size([1, 4, 1])\n",
      "torch.Size([1, 4, 1])\n",
      "torch.Size([1, 4, 1])\n",
      "torch.Size([1, 4, 1])\n"
     ]
    },
    {
     "data": {
      "text/plain": [
       "<Figure size 800x600 with 2 Axes>"
      ],
      "image/png": "[encoded data removed]"
     },
     "metadata": {},
     "output_type": "display_data"
    }
   ],
   "execution_count": 34
  },
  {
   "metadata": {
    "ExecuteTime": {
     "end_time": "2024-08-22T10:45:18.127070Z",
     "start_time": "2024-08-22T10:45:18.125375Z"
    }
   },
   "cell_type": "code",
   "source": "",
   "id": "3ede2487a9490e52",
   "outputs": [],
   "execution_count": 34
  },
  {
   "metadata": {
    "ExecuteTime": {
     "end_time": "2024-08-22T10:48:14.269149Z",
     "start_time": "2024-08-22T10:48:14.262430Z"
    }
   },
   "cell_type": "code",
   "source": "",
   "id": "551f483534521170",
   "outputs": [],
   "execution_count": 63
  },
  {
   "metadata": {
    "ExecuteTime": {
     "end_time": "2024-08-22T10:49:02.815791Z",
     "start_time": "2024-08-22T10:49:02.814057Z"
    }
   },
   "cell_type": "code",
   "source": "",
   "id": "83923728d0607830",
   "outputs": [],
   "execution_count": 64
  },
  {
   "metadata": {
    "ExecuteTime": {
     "end_time": "2024-08-22T10:48:04.217483Z",
     "start_time": "2024-08-22T10:48:04.215663Z"
    }
   },
   "cell_type": "code",
   "source": "",
   "id": "12632c8e6dc01cd",
   "outputs": [],
   "execution_count": 62
  },
  {
   "metadata": {
    "ExecuteTime": {
     "end_time": "2024-08-22T10:48:04.392711Z",
     "start_time": "2024-08-22T10:48:04.390976Z"
    }
   },
   "cell_type": "code",
   "source": "",
   "id": "1d0cc93904dbe328",
   "outputs": [],
   "execution_count": 62
  },
  {
   "metadata": {
    "ExecuteTime": {
     "end_time": "2024-08-22T10:48:04.602578Z",
     "start_time": "2024-08-22T10:48:04.600912Z"
    }
   },
   "cell_type": "code",
   "source": "",
   "id": "8912fdb4e486e87c",
   "outputs": [],
   "execution_count": 62
  },
  {
   "metadata": {
    "ExecuteTime": {
     "end_time": "2024-08-22T10:49:04.589602Z",
     "start_time": "2024-08-22T10:49:04.587717Z"
    }
   },
   "cell_type": "code",
   "source": "",
   "id": "1a4b2d9f56271018",
   "outputs": [],
   "execution_count": 64
  },
  {
   "metadata": {
    "ExecuteTime": {
     "end_time": "2024-08-22T10:47:47.448690Z",
     "start_time": "2024-08-22T10:47:47.446917Z"
    }
   },
   "cell_type": "code",
   "source": "",
   "id": "1e374d317e0bfa26",
   "outputs": [],
   "execution_count": 58
  },
  {
   "metadata": {},
   "cell_type": "code",
   "outputs": [],
   "execution_count": null,
   "source": "",
   "id": "94e6981dfd7ba0d1"
  }
 ],
 "metadata": {
  "kernelspec": {
   "display_name": "Python 3",
   "language": "python",
   "name": "python3"
  },
  "language_info": {
   "codemirror_mode": {
    "name": "ipython",
    "version": 2
   },
   "file_extension": ".py",
   "mimetype": "text/x-python",
   "name": "python",
   "nbconvert_exporter": "python",
   "pygments_lexer": "ipython2",
   "version": "2.7.6"
  }
 },
 "nbformat": 4,
 "nbformat_minor": 5
}
