{
 "cells": [
  {
   "cell_type": "code",
   "id": "b0949a58-1135-4b21-9068-ee725ae55a96",
   "metadata": {
    "ExecuteTime": {
     "end_time": "2024-10-20T15:06:01.861235Z",
     "start_time": "2024-10-20T15:06:00.467283Z"
    }
   },
   "source": [
    "import networkx as nx\n",
    "import numpy as np\n",
    "import torch\n",
    "from model import CaT\n",
    "from CaT.datasets import reorder_dag, get_full_ordering\n",
    "from utils.inference import CausalInference\n",
    "import matplotlib.pyplot as plt\n",
    "\n",
    "seed = 1\n",
    "standardize = 0\n",
    "sample_size = 50000\n",
    "batch_size = 100\n",
    "max_iters = 6000\n",
    "eval_interval = 200\n",
    "eval_iters = 100\n",
    "validation_fraction = 0.3\n",
    "np.random.seed(seed=seed)\n",
    "torch.manual_seed(seed)\n",
    "device = 'cuda'\n",
    "dropout_rate = 0.0\n",
    "learning_rate = 5e-3\n",
    "ff_n_embed = 6\n",
    "num_heads = 2\n",
    "n_layers = 2\n",
    "embed_dim = 5\n",
    "head_size = 6\n",
    "d = 5\n",
    "\n",
    "\n",
    "def generate_data_mediation(N, d=5):\n",
    "    DAGnx = nx.DiGraph()\n",
    "    \n",
    "    Ux = np.random.randn(N,d)\n",
    "    X =  Ux\n",
    "\n",
    "    Um = np.random.randn(N,d)\n",
    "    M =  0.2 * X + Um\n",
    "\n",
    "    Uy = np.random.randn(N,d)\n",
    "    Y =  0.7 * M + 0.1 * Uy\n",
    "\n",
    "    M0 = 0.2 * 0 + Um \n",
    "    M1 = 0.2 * 1 + Um\n",
    "\n",
    "    Y0 = 0.7 * M0 + 0.1 * Uy \n",
    "    Y1 = 0.7 * M1 + 0.1 * Uy   # total effect   = 0.7 * 0.2 = 0.14\n",
    "\n",
    "    all_data_dict = {'X': X, 'M': M, 'Y': Y}\n",
    "\n",
    "    # types can be 'cat' (categorical) 'cont' (continuous) or 'bin' (binary)\n",
    "    var_types = {'X': 'cont', 'M': 'cont', 'Y': 'cont'}\n",
    "\n",
    "    DAGnx.add_edges_from([('X', 'M'), ('M', 'Y')])\n",
    "    DAGnx = reorder_dag(dag=DAGnx)  # topologically sorted dag\n",
    "    var_names = list(DAGnx.nodes())  # topologically ordered list of variables\n",
    "    all_data = np.stack([all_data_dict[key] for key in var_names], axis=1)\n",
    "    causal_ordering = get_full_ordering(DAGnx)\n",
    "\n",
    "    return all_data, DAGnx, var_names, causal_ordering, var_types, Y0, Y1"
   ],
   "outputs": [],
   "execution_count": 1
  },
  {
   "cell_type": "code",
   "id": "5e1c09c9",
   "metadata": {
    "ExecuteTime": {
     "end_time": "2024-10-20T15:06:02.229801Z",
     "start_time": "2024-10-20T15:06:01.955246Z"
    }
   },
   "source": [
    "d=3\n",
    "_, _, _, _, _, Y0, Y1 = generate_data_mediation(N=1000000, d=d)\n",
    "ATE = (Y1 - Y0).mean(0)  # multi-dim ATE based off a large sample\n",
    "all_data, DAGnx, var_names, causal_ordering, var_types, Y0, Y1 = generate_data_mediation(N=sample_size, d=d)\n",
    "print(var_names, ATE)\n",
    "print(all_data.shape)\n",
    "\n",
    "indices = np.arange(0, len(all_data))\n",
    "np.random.shuffle(indices)\n",
    "\n",
    "val_inds = indices[:int(validation_fraction*len(indices))]\n",
    "train_inds = indices[int(validation_fraction*len(indices)):]\n",
    "train_data = all_data[train_inds]\n",
    "val_data = all_data[val_inds]\n",
    "train_data, val_data = torch.from_numpy(train_data).float(),  torch.from_numpy(val_data).float()"
   ],
   "outputs": [
    {
     "name": "stdout",
     "output_type": "stream",
     "text": [
      "['X', 'M', 'Y'] [0.14 0.14 0.14]\n",
      "(50000, 3, 3)\n"
     ]
    }
   ],
   "execution_count": 2
  },
  {
   "cell_type": "code",
   "id": "63c1b6ba",
   "metadata": {
    "ExecuteTime": {
     "end_time": "2024-10-20T15:06:04.260639Z",
     "start_time": "2024-10-20T15:06:03.546256Z"
    }
   },
   "source": [
    "input_dim = all_data.shape[2]\n",
    "\n",
    "model = CaT(input_dim=input_dim,\n",
    "                    dropout_rate=dropout_rate,\n",
    "                    head_size=head_size,\n",
    "                    num_heads=num_heads,\n",
    "                    ff_n_embed=ff_n_embed,\n",
    "                    embed_dim= embed_dim,\n",
    "                    dag=DAGnx,\n",
    "                    causal_ordering=causal_ordering,\n",
    "                    n_layers=n_layers,\n",
    "                    device=device,\n",
    "                    var_types=var_types, activation_function='Swish'\n",
    "                    ).to(device)\n",
    "\n",
    "optimizer = torch.optim.Adam(model.parameters(), lr=learning_rate)"
   ],
   "outputs": [],
   "execution_count": 3
  },
  {
   "cell_type": "code",
   "id": "d32adc12",
   "metadata": {
    "ExecuteTime": {
     "end_time": "2024-10-20T15:07:15.919883Z",
     "start_time": "2024-10-20T15:06:09.186520Z"
    }
   },
   "source": [
    "def get_batch(train_data, val_data, split, device, batch_size):\n",
    "    data = train_data if split == 'train' else val_data\n",
    "    ix = torch.randint(0, len(data), (batch_size,))\n",
    "    x = data[ix]\n",
    "    return x.to(device)\n",
    "\n",
    "all_var_losses = {}\n",
    "for iter_ in range(0, max_iters):\n",
    "    # train and update the model\n",
    "    model.train()\n",
    "\n",
    "    xb = get_batch(train_data=train_data, val_data=val_data, split='train', device=device, batch_size=batch_size)\n",
    "    xb_mod = torch.clone(xb.detach())\n",
    "    X, loss, loss_dict = model(X=xb, targets=xb_mod)\n",
    "\n",
    "    optimizer.zero_grad(set_to_none=True)\n",
    "    loss.backward()\n",
    "    optimizer.step()\n",
    "\n",
    "\n",
    "    if iter_ % eval_interval == 0:  # evaluate the loss (no gradients)\n",
    "        for key in loss_dict.keys():\n",
    "            if key not in all_var_losses.keys():\n",
    "                all_var_losses[key] = []\n",
    "            all_var_losses[key].append(loss_dict[key])\n",
    "\n",
    "        model.eval()\n",
    "        eval_loss = {}\n",
    "        for split in ['train', 'val']:\n",
    "            losses = torch.zeros(eval_iters)\n",
    "            for k in range(eval_iters):\n",
    "\n",
    "                xb = get_batch(train_data=train_data, val_data=val_data, split=split, device=device,\n",
    "                               batch_size=batch_size)\n",
    "                xb_mod = torch.clone(xb.detach())\n",
    "                X, loss, loss_dict = model(X=xb, targets=xb_mod)\n",
    "                losses[k] = loss.item()\n",
    "            eval_loss[split] = losses.mean()\n",
    "        model.train()\n",
    "        print(f\"step {iter_} of {max_iters}: train_loss {eval_loss['train']:.4f}, val loss {eval_loss['val']:.4f}\")\n",
    "    "
   ],
   "outputs": [
    {
     "name": "stdout",
     "output_type": "stream",
     "text": [
      "step 0 of 6000: train_loss 4.1337, val loss 4.1061\n",
      "step 200 of 6000: train_loss 1.0236, val loss 0.9932\n",
      "step 400 of 6000: train_loss 1.0141, val loss 0.9928\n",
      "step 600 of 6000: train_loss 1.0146, val loss 0.9888\n",
      "step 800 of 6000: train_loss 1.0202, val loss 0.9930\n",
      "step 1000 of 6000: train_loss 1.0089, val loss 0.9970\n",
      "step 1200 of 6000: train_loss 1.0301, val loss 0.9861\n",
      "step 1400 of 6000: train_loss 1.0110, val loss 0.9848\n",
      "step 1600 of 6000: train_loss 1.0164, val loss 0.9980\n",
      "step 1800 of 6000: train_loss 1.0131, val loss 0.9892\n",
      "step 2000 of 6000: train_loss 1.0106, val loss 0.9999\n",
      "step 2200 of 6000: train_loss 1.0086, val loss 1.0064\n",
      "step 2400 of 6000: train_loss 1.0161, val loss 0.9968\n",
      "step 2600 of 6000: train_loss 1.0180, val loss 0.9868\n",
      "step 2800 of 6000: train_loss 1.0250, val loss 1.0077\n",
      "step 3000 of 6000: train_loss 1.0170, val loss 0.9947\n",
      "step 3200 of 6000: train_loss 1.0192, val loss 1.0000\n",
      "step 3400 of 6000: train_loss 1.0028, val loss 0.9935\n",
      "step 3600 of 6000: train_loss 1.0101, val loss 1.0053\n",
      "step 3800 of 6000: train_loss 1.0121, val loss 0.9924\n",
      "step 4000 of 6000: train_loss 1.0138, val loss 0.9978\n",
      "step 4200 of 6000: train_loss 1.0141, val loss 0.9894\n",
      "step 4400 of 6000: train_loss 1.0069, val loss 0.9957\n",
      "step 4600 of 6000: train_loss 1.0136, val loss 0.9962\n",
      "step 4800 of 6000: train_loss 1.0065, val loss 0.9896\n",
      "step 5000 of 6000: train_loss 1.0087, val loss 0.9968\n",
      "step 5200 of 6000: train_loss 1.0231, val loss 0.9890\n",
      "step 5400 of 6000: train_loss 1.0100, val loss 0.9924\n",
      "step 5600 of 6000: train_loss 1.0179, val loss 0.9991\n",
      "step 5800 of 6000: train_loss 1.0115, val loss 1.0019\n"
     ]
    }
   ],
   "execution_count": 4
  },
  {
   "cell_type": "code",
   "id": "62f2ec5e",
   "metadata": {
    "ExecuteTime": {
     "end_time": "2024-10-20T15:07:16.166604Z",
     "start_time": "2024-10-20T15:07:15.920971Z"
    }
   },
   "source": [
    "model.eval()\n",
    "inf = CausalInference(dag=DAGnx)\n",
    "\n",
    "int_nodes_vals0 = {'X':np.array([0.0,])}\n",
    "int_nodes_vals1 = {'X':np.array([1.0,])}\n",
    "effect_var = 'Y'\n",
    "effect_index = var_names.index(effect_var)\n",
    "\n",
    "preds0 = inf.forward(all_data, model=model, intervention_nodes_vals=int_nodes_vals0)\n",
    "preds1 = inf.forward(all_data, model=model, intervention_nodes_vals=int_nodes_vals1)\n",
    "ATE_pred = (preds1[:,effect_index,:] - preds0[:,effect_index,:]).mean(0)\n",
    "eATE = np.abs(ATE_pred - ATE)\n",
    "print('ATE:', ATE, 'est ATE:', ATE_pred, 'error:', eATE)\n",
    "\n",
    "preds = model(train_data.to(device)).detach().cpu().numpy()\n",
    "\n",
    "plt.scatter(train_data[:,effect_index,-1].detach().cpu().numpy(), preds[:, effect_index, -1])"
   ],
   "outputs": [
    {
     "name": "stdout",
     "output_type": "stream",
     "text": [
      "ATE: [0.14 0.14 0.14] est ATE: [0.13401228 0.15703369 0.13112091] error: [0.00598772 0.01703369 0.00887909]\n"
     ]
    },
    {
     "name": "stderr",
     "output_type": "stream",
     "text": [
      "/home/matthewvowels/GitHub/Causal_Transformer/utils/inference.py:18: UserWarning: No mask has been specified. If padding has been used, the absence of a mask may lead to incorrect results.\n",
      "  warnings.warn(\n"
     ]
    },
    {
     "data": {
      "text/plain": [
       "<matplotlib.collections.PathCollection at 0x7fe88924d9d0>"
      ]
     },
     "execution_count": 5,
     "metadata": {},
     "output_type": "execute_result"
    },
    {
     "data": {
      "text/plain": [
       "<Figure size 640x480 with 1 Axes>"
      ],
      "image/png": "[encoded data removed]"
     },
     "metadata": {},
     "output_type": "display_data"
    }
   ],
   "execution_count": 5
  },
  {
   "cell_type": "code",
   "id": "c381d7b5",
   "metadata": {
    "ExecuteTime": {
     "end_time": "2024-10-20T15:07:24.298336Z",
     "start_time": "2024-10-20T15:07:24.296480Z"
    }
   },
   "source": "",
   "outputs": [],
   "execution_count": 6
  },
  {
   "cell_type": "code",
   "id": "ed695e3f",
   "metadata": {
    "ExecuteTime": {
     "end_time": "2024-10-20T15:07:25.335363Z",
     "start_time": "2024-10-20T15:07:25.291733Z"
    }
   },
   "source": [
    "model.eval()\n",
    "inf = CausalInference(dag=DAGnx)\n",
    "\n",
    "int_nodes_vals0 = {'X':np.array([0.0,])}\n",
    "int_nodes_vals1 = {'X':np.array([1.0,])}\n",
    "effect_var = 'M'\n",
    "effect_index = var_names.index(effect_var)\n",
    "\n",
    "preds0 = inf.forward(all_data, model=model, intervention_nodes_vals=int_nodes_vals0)\n",
    "preds1 = inf.forward(all_data, model=model, intervention_nodes_vals=int_nodes_vals1)\n",
    "ATE = np.array([0.5, 0.5, 0.5])\n",
    "ATE_pred = (preds1[:,effect_index,:] - preds0[:,effect_index,:]).mean(0)\n",
    "eATE = np.abs(ATE_pred - ATE)\n",
    "print('est ATE:', ATE_pred, 'error:', eATE)"
   ],
   "outputs": [
    {
     "name": "stdout",
     "output_type": "stream",
     "text": [
      "est ATE: [0.19732073 0.20942023 0.18575056] error: [0.30267927 0.29057977 0.31424944]\n"
     ]
    }
   ],
   "execution_count": 7
  },
  {
   "cell_type": "code",
   "id": "7ed31067",
   "metadata": {},
   "source": [],
   "outputs": [],
   "execution_count": null
  }
 ],
 "metadata": {
  "kernelspec": {
   "display_name": "Python 3 (ipykernel)",
   "language": "python",
   "name": "python3"
  },
  "language_info": {
   "codemirror_mode": {
    "name": "ipython",
    "version": 3
   },
   "file_extension": ".py",
   "mimetype": "text/x-python",
   "name": "python",
   "nbconvert_exporter": "python",
   "pygments_lexer": "ipython3",
   "version": "3.9.19"
  }
 },
 "nbformat": 4,
 "nbformat_minor": 5
}
