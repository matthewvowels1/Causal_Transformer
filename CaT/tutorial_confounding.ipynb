{
 "cells": [
  {
   "cell_type": "code",
   "id": "1f6504d0",
   "metadata": {
    "ExecuteTime": {
     "end_time": "2024-08-24T12:58:36.083044Z",
     "start_time": "2024-08-24T12:58:32.411591Z"
    }
   },
   "source": [
    "import networkx as nx\n",
    "import numpy as np\n",
    "import torch\n",
    "from model import CaT\n",
    "import inference\n",
    "import pandas as pd\n",
    "import matplotlib.pyplot as plt\n",
    "from datasets import get_full_ordering, reorder_dag\n",
    "\n",
    "!pip install scikit-learn\n",
    "from sklearn.linear_model import LinearRegression\n",
    "\n",
    "\n",
    "shuffling = 0\n",
    "seed = 1\n",
    "standardize = 0\n",
    "sample_size = 50000\n",
    "batch_size = 100\n",
    "max_iters = 40000\n",
    "eval_interval = 100\n",
    "eval_iters = 100\n",
    "validation_fraction = 0.3\n",
    "np.random.seed(seed=seed)\n",
    "torch.manual_seed(seed)\n",
    "device = 'cuda'\n",
    "dropout_rate = 0.0\n",
    "learning_rate = 5e-3\n",
    "ff_n_embed = 6\n",
    "num_heads = 1\n",
    "n_layers = 1\n",
    "head_size = 6\n",
    "\n",
    "def generate_data(N, d=1):\n",
    "    DAGnx = nx.DiGraph()\n",
    "\n",
    "    \n",
    "    Uc = np.random.randn(N,d)\n",
    "    C =  Uc\n",
    "\n",
    "        \n",
    "    Ux = np.random.randn(N,d)\n",
    "    X =  1 * C + Ux\n",
    "    \n",
    "    Uy = np.random.randn(N,d)\n",
    "    Y = 0.8 * X  + 1.5 * C + Uy\n",
    "\n",
    "    Y0 = 0.8 * 0 + 1.5 * C + Uy\n",
    "    Y1 = 0.8 * 1  + 1.5 * C +  Uy\n",
    "\n",
    "    all_data_dict = {'X': X,  'C': C, 'Y': Y}\n",
    "\n",
    "    # types can be 'cat' (categorical) 'cont' (continuous) or 'bin' (binary)\n",
    "    var_types = {'X': 'cont',  'C': 'cont', 'Y': 'cont'}\n",
    "\n",
    "    DAGnx.add_edges_from([('X', 'Y'), ('C', 'X'), ('C', 'Y')])\n",
    "    DAGnx = reorder_dag(dag=DAGnx)  # topologically sorted dag\n",
    "    var_names = list(DAGnx.nodes())  # topologically ordered list of variables\n",
    "    all_data = np.stack([all_data_dict[key] for key in var_names], axis=1)\n",
    "    causal_ordering = get_full_ordering(DAGnx)\n",
    "    ordered_var_types = dict(sorted(var_types.items(), key=lambda item: causal_ordering[item[0]]))\n",
    "\n",
    "    return all_data, DAGnx, var_names, causal_ordering, ordered_var_types, Y0, Y1\n",
    "\n",
    "\n"
   ],
   "outputs": [
    {
     "name": "stdout",
     "output_type": "stream",
     "text": [
      "Requirement already satisfied: scikit-learn in /home/matthewvowels/anaconda3/envs/cat_env/lib/python3.9/site-packages (1.5.0)\r\n",
      "Requirement already satisfied: numpy>=1.19.5 in /home/matthewvowels/anaconda3/envs/cat_env/lib/python3.9/site-packages (from scikit-learn) (1.26.4)\r\n",
      "Requirement already satisfied: scipy>=1.6.0 in /home/matthewvowels/anaconda3/envs/cat_env/lib/python3.9/site-packages (from scikit-learn) (1.13.1)\r\n",
      "Requirement already satisfied: joblib>=1.2.0 in /home/matthewvowels/anaconda3/envs/cat_env/lib/python3.9/site-packages (from scikit-learn) (1.4.2)\r\n",
      "Requirement already satisfied: threadpoolctl>=3.1.0 in /home/matthewvowels/anaconda3/envs/cat_env/lib/python3.9/site-packages (from scikit-learn) (3.5.0)\r\n"
     ]
    }
   ],
   "execution_count": 1
  },
  {
   "cell_type": "markdown",
   "id": "51aaf293",
   "metadata": {},
   "source": [
    "## Confounding Example"
   ]
  },
  {
   "cell_type": "code",
   "id": "cf052854-cdef-46f9-8a17-b9fc1307dc27",
   "metadata": {
    "ExecuteTime": {
     "end_time": "2024-08-24T12:58:37.519530Z",
     "start_time": "2024-08-24T12:58:37.430950Z"
    }
   },
   "source": [
    "d=1\n",
    "_, _, _, _, _, Y0, Y1 = generate_data(N=1000000, d=d)\n",
    "ATE = (Y1 - Y0).mean(0)  # multi-dim ATE based off a large sample\n",
    "all_data, DAGnx, var_names, causal_ordering, var_types, Y0, Y1 = generate_data(N=sample_size, d=d)\n",
    "print(var_names, ATE)\n",
    "print(all_data.shape)"
   ],
   "outputs": [
    {
     "name": "stdout",
     "output_type": "stream",
     "text": [
      "['C', 'X', 'Y'] [0.8]\n",
      "(50000, 3, 1)\n"
     ]
    }
   ],
   "execution_count": 2
  },
  {
   "cell_type": "code",
   "id": "70f8745d-a3c7-478f-a397-463529bbe27c",
   "metadata": {
    "ExecuteTime": {
     "end_time": "2024-08-24T12:58:37.815628Z",
     "start_time": "2024-08-24T12:58:37.802722Z"
    }
   },
   "source": [
    "X = all_data[:, :2, 0] \n",
    "y = all_data[:, 2:3, 0]\n",
    "reg = LinearRegression().fit(X, y)\n",
    "\n",
    "reg.coef_"
   ],
   "outputs": [
    {
     "data": {
      "text/plain": [
       "array([[1.49645586, 0.80199006]])"
      ]
     },
     "execution_count": 3,
     "metadata": {},
     "output_type": "execute_result"
    }
   ],
   "execution_count": 3
  },
  {
   "cell_type": "code",
   "id": "52628e6b-9433-49b9-93cc-8b9f654e9117",
   "metadata": {
    "ExecuteTime": {
     "end_time": "2024-08-24T12:58:38.202123Z",
     "start_time": "2024-08-24T12:58:38.200026Z"
    }
   },
   "source": [],
   "outputs": [],
   "execution_count": 3
  },
  {
   "cell_type": "code",
   "execution_count": 69,
   "id": "c8056409",
   "metadata": {},
   "outputs": [],
   "source": []
  },
  {
   "cell_type": "code",
   "execution_count": 70,
   "id": "c1982159",
   "metadata": {},
   "outputs": [
    {
     "name": "stdout",
     "output_type": "stream",
     "text": [
      "ATE: [0.8] est ATE: [1.28523455] error: [0.48523455]\n",
      "ATE: [0.8] est ATE: [1.1920612] error: [0.3920612]\n",
      "ATE: [0.8] est ATE: [1.16595427] error: [0.36595427]\n",
      "ATE: [0.8] est ATE: [1.06473034] error: [0.26473034]\n",
      "ATE: [0.8] est ATE: [1.40649713] error: [0.60649713]\n",
      "ATE: [0.8] est ATE: [1.23959588] error: [0.43959588]\n",
      "ATE: [0.8] est ATE: [1.03233396] error: [0.23233396]\n",
      "ATE: [0.8] est ATE: [1.0258575] error: [0.2258575]\n",
      "ATE: [0.8] est ATE: [1.3953697] error: [0.5953697]\n",
      "ATE: [0.8] est ATE: [0.98706922] error: [0.18706922]\n"
     ]
    }
   ],
   "source": [
    "def get_batch(train_data, val_data, split, device, batch_size):\n",
    "    data = train_data if split == 'train' else val_data\n",
    "    ix = torch.randint(0, len(data), (batch_size,))\n",
    "    x = data[ix]\n",
    "    return x.to(device)\n",
    "\n",
    "for i in range(10):\n",
    "    all_data, DAGnx, var_names, causal_ordering, var_types, Y0, Y1 = generate_data(N=sample_size, d=d)\n",
    "    \n",
    "    indices = np.arange(0, len(all_data))\n",
    "    np.random.shuffle(indices)\n",
    "    \n",
    "    val_inds = indices[:int(validation_fraction*len(indices))]\n",
    "    train_inds = indices[int(validation_fraction*len(indices)):]\n",
    "    train_data = all_data[train_inds]\n",
    "    val_data = all_data[val_inds]\n",
    "    train_data, val_data = torch.from_numpy(train_data).float(),  torch.from_numpy(val_data).float()\n",
    "    \n",
    "    input_dim = all_data.shape[2]\n",
    "    \n",
    "    model = CaT(input_dim=input_dim,\n",
    "                    dropout_rate=dropout_rate,\n",
    "                    head_size=head_size,\n",
    "                    num_heads=num_heads,\n",
    "                    ff_n_embed=ff_n_embed,\n",
    "                    dag=DAGnx,\n",
    "                    causal_ordering=causal_ordering,\n",
    "                    n_layers=n_layers,\n",
    "                    device=device,\n",
    "                    var_types=var_types,\n",
    "                    ).to(device)\n",
    "    \n",
    "    optimizer = torch.optim.AdamW(model.parameters(), lr=learning_rate)\n",
    "    \n",
    "    all_var_losses = {}\n",
    "    for iter_ in range(0, max_iters):\n",
    "        # train and update the model\n",
    "        model.train()\n",
    "    \n",
    "        xb = get_batch(train_data=train_data, val_data=val_data, split='train', device=device, batch_size=batch_size)\n",
    "        xb_mod = torch.clone(xb.detach())\n",
    "        X, loss, loss_dict = model(X=xb, targets=xb_mod, shuffling=shuffling)\n",
    "    \n",
    "        optimizer.zero_grad(set_to_none=True)\n",
    "        loss.backward()\n",
    "        optimizer.step()\n",
    "    \n",
    "    \n",
    "        if iter_ % eval_interval == 0:  # evaluate the loss (no gradients)\n",
    "            for key in loss_dict.keys():\n",
    "                if key not in all_var_losses.keys():\n",
    "                    all_var_losses[key] = []\n",
    "                all_var_losses[key].append(loss_dict[key])\n",
    "    \n",
    "            model.eval()\n",
    "            eval_loss = {}\n",
    "            for split in ['train', 'val']:\n",
    "                losses = torch.zeros(eval_iters)\n",
    "                for k in range(eval_iters):\n",
    "    \n",
    "                    xb = get_batch(train_data=train_data, val_data=val_data, split=split, device=device,\n",
    "                                   batch_size=batch_size)\n",
    "                    xb_mod = torch.clone(xb.detach())\n",
    "                    X, loss, loss_dict = model(X=xb, targets=xb_mod, shuffling=False)\n",
    "                    losses[k] = loss.item()\n",
    "                eval_loss[split] = losses.mean()\n",
    "            model.train()\n",
    "\n",
    "    model.eval()\n",
    "    inf = inference.CausalInference(model=model, device=device)\n",
    "    \n",
    "    int_nodes_vals0 = {'X':np.array([0.0,])}\n",
    "    int_nodes_vals1 = {'X':np.array([1.0,])}\n",
    "    effect_var = 'Y'\n",
    "    effect_index = var_names.index(effect_var)\n",
    "    \n",
    "    preds0 = inf.forward(all_data, int_nodes_vals0)\n",
    "    preds1 = inf.forward(all_data, int_nodes_vals1)\n",
    "    ATE_pred = (preds1[:,effect_index,:] - preds0[:,effect_index,:]).mean(0)\n",
    "    eATE = np.abs(ATE_pred - ATE)\n",
    "    print('ATE:', ATE, 'est ATE:', ATE_pred, 'error:', eATE)\n",
    "\n"
   ]
  },
  {
   "cell_type": "code",
   "execution_count": 21,
   "id": "120aa247",
   "metadata": {},
   "outputs": [
    {
     "name": "stdout",
     "output_type": "stream",
     "text": [
      "ATE: [0.8 0.8 0.8] est ATE: [1.35116442 1.30697672 1.31493569] error: [0.55116442 0.50697672 0.51493569]\n"
     ]
    },
    {
     "data": {
      "text/plain": [
       "<matplotlib.collections.PathCollection at 0x7f61558439a0>"
      ]
     },
     "execution_count": 21,
     "metadata": {},
     "output_type": "execute_result"
    },
    {
     "data": {
      "image/png": "[encoded data removed]",
      "text/plain": [
       "<Figure size 640x480 with 1 Axes>"
      ]
     },
     "metadata": {},
     "output_type": "display_data"
    }
   ],
   "source": [
    "model.eval()\n",
    "inf = inference.CausalInference(model=model, device=device)\n",
    "\n",
    "int_nodes_vals0 = {'X':np.array([0.0,])}\n",
    "int_nodes_vals1 = {'X':np.array([1.0,])}\n",
    "effect_var = 'Y'\n",
    "effect_index = var_names.index(effect_var)\n",
    "\n",
    "preds0 = inf.forward(all_data, int_nodes_vals0)\n",
    "preds1 = inf.forward(all_data, int_nodes_vals1)\n",
    "ATE_pred = (preds1[:,effect_index,:] - preds0[:,effect_index,:]).mean(0)\n",
    "eATE = np.abs(ATE_pred - ATE)\n",
    "print('ATE:', ATE, 'est ATE:', ATE_pred, 'error:', eATE)\n",
    "\n",
    "preds = model(train_data.to(device))\n",
    "\n",
    "plt.scatter(train_data[:,effect_index,-1].detach().cpu().numpy(), preds[:, effect_index, -1].detach().cpu().numpy())"
   ]
  },
  {
   "cell_type": "code",
   "execution_count": 6,
   "id": "28d1bea2",
   "metadata": {},
   "outputs": [
    {
     "data": {
      "image/png": "[encoded data removed]",
      "text/plain": [
       "<Figure size 640x480 with 1 Axes>"
      ]
     },
     "metadata": {},
     "output_type": "display_data"
    }
   ],
   "source": [
    "\n",
    "plt.hist(preds0[:,3, 0], alpha=0.5)\n",
    "plt.hist(preds1[:,3, 0], alpha=0.5)\n",
    "plt.show()"
   ]
  },
  {
   "cell_type": "code",
   "id": "3dc2c102",
   "metadata": {
    "ExecuteTime": {
     "end_time": "2024-08-23T13:49:52.454399Z",
     "start_time": "2024-08-23T13:49:52.451968Z"
    }
   },
   "source": "",
   "outputs": [],
   "execution_count": null
  },
  {
   "cell_type": "code",
   "execution_count": null,
   "id": "55fc7a51",
   "metadata": {},
   "outputs": [],
   "source": []
  },
  {
   "cell_type": "code",
   "execution_count": null,
   "id": "15085c49-72a2-4c93-bdc4-c66434d63f91",
   "metadata": {},
   "outputs": [],
   "source": []
  },
  {
   "cell_type": "code",
   "execution_count": null,
   "id": "5e8991c6-e61f-481b-b1e8-f528321bd7cd",
   "metadata": {},
   "outputs": [],
   "source": []
  },
  {
   "cell_type": "code",
   "execution_count": null,
   "id": "ac21f975-64f9-432a-830b-d3005129be1e",
   "metadata": {},
   "outputs": [],
   "source": []
  },
  {
   "cell_type": "code",
   "execution_count": null,
   "id": "dce6388e-e39a-4332-b55b-0f426ad30b27",
   "metadata": {},
   "outputs": [],
   "source": []
  },
  {
   "cell_type": "code",
   "execution_count": null,
   "id": "de884174-ae89-4831-b145-03b6923dc4e8",
   "metadata": {},
   "outputs": [],
   "source": []
  }
 ],
 "metadata": {
  "kernelspec": {
   "display_name": "Python 3 (ipykernel)",
   "language": "python",
   "name": "python3"
  },
  "language_info": {
   "codemirror_mode": {
    "name": "ipython",
    "version": 3
   },
   "file_extension": ".py",
   "mimetype": "text/x-python",
   "name": "python",
   "nbconvert_exporter": "python",
   "pygments_lexer": "ipython3",
   "version": "3.9.19"
  }
 },
 "nbformat": 4,
 "nbformat_minor": 5
}
